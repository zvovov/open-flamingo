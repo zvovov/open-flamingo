{
  "cells": [
    {
      "cell_type": "markdown",
      "source": [
        "# Download VQAv2 dataset images\n"
      ],
      "metadata": {
        "id": "zz4MO-SK44Q8"
      },
      "id": "zz4MO-SK44Q8"
    },
    {
      "cell_type": "code",
      "source": [
        "#!wget http://images.cocodataset.org/zips/test2015.zip\n",
        "!mkdir /content/vqav2/\n",
        "\n",
        "!wget http://images.cocodataset.org/zips/train2014.zip\n",
        "!wget http://images.cocodataset.org/zips/val2014.zip\n",
        "\n",
        "!unzip /content/train2014.zip -d /content/vqav2/\n",
        "!unzip /content/val2014.zip -d /content/vqav2/"
      ],
      "metadata": {
        "id": "gkeVDgRUrn23"
      },
      "id": "gkeVDgRUrn23",
      "execution_count": null,
      "outputs": []
    },
    {
      "cell_type": "markdown",
      "source": [
        "# Install custom open_flamingo model with VQAv2 dataset questions and answers\n"
      ],
      "metadata": {
        "id": "5EgnyV__43BL"
      },
      "id": "5EgnyV__43BL"
    },
    {
      "cell_type": "code",
      "execution_count": null,
      "metadata": {
        "id": "Y7ZMDD2QDyOG"
      },
      "outputs": [],
      "source": [
        "!rm -rf /content/open_flamingo\n",
        "!git clone https://github.com/Lavrenti-Mikaelyan/open_flamingo.git\n",
        "\n",
        "!unzip /content/open_flamingo/vqav2/v2_Questions_Train_mscoco.zip -d /content/vqav2/\n",
        "!unzip /content/open_flamingo/vqav2/v2_Questions_Val_mscoco.zip -d /content/vqav2/\n",
        "#!unzip /content/v2_Questions_Test_mscoco.zip -d /content/VQA/Questions\n",
        "\n",
        "!unzip /content/open_flamingo/vqav2/v2_Annotations_Train_mscoco.zip -d /content/vqav2\n",
        "!unzip /content/open_flamingo/vqav2/v2_Annotations_Val_mscoco.zip -d /content/vqav2\n",
        "\n",
        "!pip install scikit-image matplotlib\n",
        "!pip install -r /content/open_flamingo/requirements.txt\n",
        "!pip install -r /content/open_flamingo/requirements-eval.txt\n",
        "from huggingface_hub import hf_hub_download"
      ],
      "id": "Y7ZMDD2QDyOG"
    },
    {
      "cell_type": "markdown",
      "source": [
        "# Run evaluation on pre-trained Open-Flamingo\n",
        "Needs 16GB GPU, runs 0, 4, 8 shot experiments\n",
        "Needs more GPU for 16+ shot\n",
        "Uses Open Clip Vit-L/14 and MPT-1B-RedPajama-200B\n",
        "Tests on 4000 VQAv2 samples for each shot config to to limit runtime <2 hrs in total\n",
        "\n",
        "Prelim results:\n",
        "\n",
        "  0 shot - 43.53 VQA score\n",
        "\n",
        "  4 shot - 44.66 VQA score\n",
        "\n",
        "  8 shot - 44.75 VQA score\n",
        "\n",
        "  (comparable/close to Open_Flamingo result, can increase sample count to get true accuracy)\n",
        "\n",
        "This is a Flamingo-3B model. Compared to the performance of the same model in the Flamingo paper, 4-shot VQA is performs about %8 worse. I attribute this to different vision encoder and LLM choices in paper vs Open Flamingo, different pretraining dataset (M3W vs mmc4).\n",
        "\n",
        "Note, that even the developers of Open Flamingo admit that their models achieve only 80-89% of what the origial Flamingo results were.\n",
        "\n"
      ],
      "metadata": {
        "id": "sRfOuMn57G_X"
      },
      "id": "sRfOuMn57G_X"
    },
    {
      "cell_type": "code",
      "execution_count": null,
      "metadata": {
        "id": "PggHtdLqvZh2"
      },
      "outputs": [],
      "source": [
        "import sys\n",
        "checkpoint_path = hf_hub_download(\"openflamingo/OpenFlamingo-3B-vitl-mpt1b\", \"checkpoint.pt\", local_dir='/content/open_flamingo', local_dir_use_symlinks=False)\n",
        "print(checkpoint_path)\n",
        "sys.path.insert(0,'/content/open_flamingo/open_flamingo')\n",
        "\n",
        "!chmod +x /content/open_flamingo/open_flamingo/scripts/run_eval.sh\n",
        "!/content/open_flamingo/open_flamingo/scripts/run_eval.sh"
      ],
      "id": "PggHtdLqvZh2"
    }
  ],
  "metadata": {
    "accelerator": "GPU",
    "colab": {
      "machine_shape": "hm",
      "provenance": [],
      "gpuType": "V100"
    },
    "kernelspec": {
      "display_name": "Python 3",
      "name": "python3"
    },
    "language_info": {
      "codemirror_mode": {
        "name": "ipython",
        "version": 3
      },
      "file_extension": ".py",
      "mimetype": "text/x-python",
      "name": "python",
      "nbconvert_exporter": "python",
      "pygments_lexer": "ipython3",
      "version": "3.9.18"
    }
  },
  "nbformat": 4,
  "nbformat_minor": 5
}